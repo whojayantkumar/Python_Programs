{
 "cells": [
  {
   "cell_type": "markdown",
   "metadata": {},
   "source": [
    "# Python Program for cube sum of first n natural numbers\n",
    "Print the sum of series 13 + 23 + 33 + 43 + …….+ n3 till n-th term."
   ]
  },
  {
   "cell_type": "code",
   "execution_count": 4,
   "metadata": {},
   "outputs": [
    {
     "name": "stdout",
     "output_type": "stream",
     "text": [
      "Enter nth number : 5\n",
      "Sum of Squares of first n natural numbers is :  225\n"
     ]
    }
   ],
   "source": [
    "def cubeSum(n):\n",
    "    sum=0\n",
    "    for i in range(n+1):\n",
    "        sum=sum+pow(i,3)\n",
    "    print(\"Sum of Squares of first n natural numbers is : \",sum)\n",
    "n=int(input(\"Enter nth number : \"))\n",
    "cubeSum(n)"
   ]
  },
  {
   "cell_type": "code",
   "execution_count": null,
   "metadata": {},
   "outputs": [],
   "source": []
  }
 ],
 "metadata": {
  "kernelspec": {
   "display_name": "Python 3",
   "language": "python",
   "name": "python3"
  },
  "language_info": {
   "codemirror_mode": {
    "name": "ipython",
    "version": 3
   },
   "file_extension": ".py",
   "mimetype": "text/x-python",
   "name": "python",
   "nbconvert_exporter": "python",
   "pygments_lexer": "ipython3",
   "version": "3.7.4"
  }
 },
 "nbformat": 4,
 "nbformat_minor": 2
}
