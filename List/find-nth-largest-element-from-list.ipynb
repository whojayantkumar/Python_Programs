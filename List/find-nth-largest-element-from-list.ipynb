{
 "cells": [
  {
   "cell_type": "markdown",
   "metadata": {},
   "source": [
    "# Python program to find N largest elements from a list\n",
    "Given a list of integers, the task is to find N largest elements assuming size of list is greater than or equal o N.\n",
    "\n",
    "Examples :\n",
    "\n",
    "Input : [4, 5, 1, 2, 9] \n",
    "        N = 2\n",
    "Output :  [9, 5]\n",
    "\n",
    "Input : [81, 52, 45, 10, 3, 2, 96] \n",
    "        N = 3\n",
    "Output : [81, 96, 52]"
   ]
  },
  {
   "cell_type": "code",
   "execution_count": 11,
   "metadata": {},
   "outputs": [
    {
     "name": "stdout",
     "output_type": "stream",
     "text": [
      "[9, 5]\n",
      "[96, 81, 52]\n"
     ]
    }
   ],
   "source": [
    "def nthlargest(list1,n):\n",
    "    newlist=[]\n",
    "    if n<=len(list1):\n",
    "        for i in range(n):\n",
    "            temp=max(list1)\n",
    "            list1.remove(temp)\n",
    "            newlist.append(temp)\n",
    "        return newlist\n",
    "    else:\n",
    "        return \"List is too sort\"\n",
    "list1=[4,5,1,2,9]\n",
    "n=2\n",
    "print(nthlargest(list1,n))\n",
    "list2=[81,52,45,10,3,2,96]\n",
    "n=3\n",
    "print(nthlargest(list2,n))"
   ]
  },
  {
   "cell_type": "code",
   "execution_count": null,
   "metadata": {},
   "outputs": [],
   "source": []
  }
 ],
 "metadata": {
  "kernelspec": {
   "display_name": "Python 3",
   "language": "python",
   "name": "python3"
  },
  "language_info": {
   "codemirror_mode": {
    "name": "ipython",
    "version": 3
   },
   "file_extension": ".py",
   "mimetype": "text/x-python",
   "name": "python",
   "nbconvert_exporter": "python",
   "pygments_lexer": "ipython3",
   "version": "3.7.4"
  }
 },
 "nbformat": 4,
 "nbformat_minor": 2
}
