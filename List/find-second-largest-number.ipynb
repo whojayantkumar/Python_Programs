{
 "cells": [
  {
   "cell_type": "markdown",
   "metadata": {},
   "source": [
    "# Python program to find second largest number in a list\n",
    "Given a list of numbers, the task is to write a Python program to find the second largest number in given list.\n",
    "\n",
    "Examples:\n",
    "\n",
    "Input : list1 = [10, 20, 4]\n",
    "Output : 10\n",
    "\n",
    "Input : list2 = [70, 11, 20, 4, 100]\n",
    "Output : 70"
   ]
  },
  {
   "cell_type": "markdown",
   "metadata": {},
   "source": [
    "# Sorting is an easier but less optimal method. Given below is an O(n) algorithm to do the same. "
   ]
  },
  {
   "cell_type": "code",
   "execution_count": 1,
   "metadata": {},
   "outputs": [
    {
     "name": "stdout",
     "output_type": "stream",
     "text": [
      "Second largest element in list :  70\n"
     ]
    }
   ],
   "source": [
    "#using sorting\n",
    "li=[70,11,20,4,100]\n",
    "li.sort()\n",
    "print(\"Second largest element in list : \",li[-2])"
   ]
  },
  {
   "cell_type": "markdown",
   "metadata": {},
   "source": [
    "# By removing the max element from list"
   ]
  },
  {
   "cell_type": "code",
   "execution_count": 2,
   "metadata": {},
   "outputs": [
    {
     "name": "stdout",
     "output_type": "stream",
     "text": [
      "Second largest element in list :  250\n"
     ]
    }
   ],
   "source": [
    "li=[70,11,20,4,100,200,300,100,250]\n",
    "temp=max(li)\n",
    "li.remove(temp)\n",
    "print(\"Second largest element in list : \",max(li))"
   ]
  },
  {
   "cell_type": "code",
   "execution_count": null,
   "metadata": {},
   "outputs": [],
   "source": []
  }
 ],
 "metadata": {
  "kernelspec": {
   "display_name": "Python 3",
   "language": "python",
   "name": "python3"
  },
  "language_info": {
   "codemirror_mode": {
    "name": "ipython",
    "version": 3
   },
   "file_extension": ".py",
   "mimetype": "text/x-python",
   "name": "python",
   "nbconvert_exporter": "python",
   "pygments_lexer": "ipython3",
   "version": "3.7.4"
  }
 },
 "nbformat": 4,
 "nbformat_minor": 2
}
