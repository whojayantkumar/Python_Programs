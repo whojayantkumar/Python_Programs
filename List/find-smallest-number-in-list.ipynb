{
 "cells": [
  {
   "cell_type": "markdown",
   "metadata": {},
   "source": [
    "# Python program to find smallest number in a list\n",
    "Given a list of numbers, the task is to write a Python program to find the smallest number in given list.\n",
    "\n",
    "Examples:\n",
    "\n",
    "Input : list1 = [10, 20, 4]\n",
    "Output : 4\n",
    "\n",
    "Input : list2 = [20, 10, 20, 1, 100]\n",
    "Output : 1"
   ]
  },
  {
   "cell_type": "code",
   "execution_count": 7,
   "metadata": {},
   "outputs": [
    {
     "name": "stdout",
     "output_type": "stream",
     "text": [
      "1\n"
     ]
    }
   ],
   "source": [
    "#Simple technique\n",
    "def findMin(li):\n",
    "    minimum=li[0]\n",
    "    for i in li:\n",
    "        if minimum>=i:\n",
    "            minimum=i\n",
    "    return minimum\n",
    "list1=[20,10,1,100,20]\n",
    "print(findMin(list1))"
   ]
  },
  {
   "cell_type": "markdown",
   "metadata": {},
   "source": [
    "# using min() method"
   ]
  },
  {
   "cell_type": "code",
   "execution_count": 6,
   "metadata": {},
   "outputs": [
    {
     "name": "stdout",
     "output_type": "stream",
     "text": [
      "-11\n"
     ]
    }
   ],
   "source": [
    "#using min() function\n",
    "list1=[10,20,4,50,-11,60,70]\n",
    "print(min(list1))"
   ]
  },
  {
   "cell_type": "markdown",
   "metadata": {},
   "source": [
    "# Sort the list in ascending order and print the first element in the list."
   ]
  },
  {
   "cell_type": "code",
   "execution_count": 15,
   "metadata": {},
   "outputs": [
    {
     "name": "stdout",
     "output_type": "stream",
     "text": [
      "-100\n"
     ]
    }
   ],
   "source": [
    "list1=[10,20,4,50,-11,60,70,-90,-100]\n",
    "list1.sort()\n",
    "print(*list1[:1])"
   ]
  },
  {
   "cell_type": "code",
   "execution_count": null,
   "metadata": {},
   "outputs": [],
   "source": []
  }
 ],
 "metadata": {
  "kernelspec": {
   "display_name": "Python 3",
   "language": "python",
   "name": "python3"
  },
  "language_info": {
   "codemirror_mode": {
    "name": "ipython",
    "version": 3
   },
   "file_extension": ".py",
   "mimetype": "text/x-python",
   "name": "python",
   "nbconvert_exporter": "python",
   "pygments_lexer": "ipython3",
   "version": "3.7.4"
  }
 },
 "nbformat": 4,
 "nbformat_minor": 2
}
