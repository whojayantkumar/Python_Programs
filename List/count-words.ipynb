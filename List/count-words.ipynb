{
 "cells": [
  {
   "cell_type": "markdown",
   "metadata": {},
   "source": [
    "# Python | Count occurrences of an element in a list\n",
    "Given a list in Python and a number x, count number of occurrences of x in the given list.\n",
    "\n",
    "Examples:\n",
    "\n",
    "Input : lst = [15, 6, 7, 10, 12, 20, 10, 28, 10]\n",
    "         x = 10\n",
    "Output : 3 \n",
    "10 appears three times in given list.\n",
    "\n",
    "Input : lst = [8, 6, 8, 10, 8, 20, 10, 8, 8]\n",
    "        x = 16\n",
    "Output : 0"
   ]
  },
  {
   "cell_type": "code",
   "execution_count": 1,
   "metadata": {},
   "outputs": [
    {
     "name": "stdout",
     "output_type": "stream",
     "text": [
      "3 has occurred 6 times\n"
     ]
    }
   ],
   "source": [
    "def isinlist(list1,word):\n",
    "    count=0\n",
    "    for i in list1:\n",
    "        if word==i:\n",
    "            count+=1\n",
    "    return count\n",
    "list1=[1,2,3,4,5,6,7,8,9,0,1,2,3,4,3,5,3,6,3,63,73,3]\n",
    "word=3\n",
    "print('{} has occurred {} times'.format(word,isinlist(list1,word)) )"
   ]
  },
  {
   "cell_type": "markdown",
   "metadata": {},
   "source": [
    "# (Using count())\n",
    "The idea is to use list method count() to count number of occurrences."
   ]
  },
  {
   "cell_type": "code",
   "execution_count": 2,
   "metadata": {},
   "outputs": [
    {
     "name": "stdout",
     "output_type": "stream",
     "text": [
      "4 has occurred 2 times\n"
     ]
    }
   ],
   "source": [
    "def countWord(li,word):\n",
    "    return li.count(word)\n",
    "list1=[1,2,3,4,5,6,7,8,9,0,1,2,3,4,3,5,3,6,3,63,73,3]\n",
    "word=4\n",
    "print('{} has occurred {} times'.format(word,countWord(list1,word)) )"
   ]
  },
  {
   "cell_type": "markdown",
   "metadata": {},
   "source": [
    "# (Using Counter())\n",
    "Counter method returns a dictionary with occurrences of all elements as a key-value pair, where key is the element and value is the number of times that element has occurred."
   ]
  },
  {
   "cell_type": "code",
   "execution_count": 7,
   "metadata": {},
   "outputs": [
    {
     "name": "stdout",
     "output_type": "stream",
     "text": [
      "6 has occurred 5 times\n"
     ]
    }
   ],
   "source": [
    "from collections import Counter\n",
    "l=[1,2,3,4,5,6,7,8,9,0,1,2,3,4,3,5,3,6,3,63,73,3,6,6,6]\n",
    "word=6\n",
    "d= Counter(l)\n",
    "print('{} has occurred {} times'.format(word,d[word]) )"
   ]
  },
  {
   "cell_type": "code",
   "execution_count": null,
   "metadata": {},
   "outputs": [],
   "source": []
  }
 ],
 "metadata": {
  "kernelspec": {
   "display_name": "Python 3",
   "language": "python",
   "name": "python3"
  },
  "language_info": {
   "codemirror_mode": {
    "name": "ipython",
    "version": 3
   },
   "file_extension": ".py",
   "mimetype": "text/x-python",
   "name": "python",
   "nbconvert_exporter": "python",
   "pygments_lexer": "ipython3",
   "version": "3.7.4"
  }
 },
 "nbformat": 4,
 "nbformat_minor": 2
}
