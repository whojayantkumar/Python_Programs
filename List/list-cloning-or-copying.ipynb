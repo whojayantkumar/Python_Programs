{
 "cells": [
  {
   "cell_type": "markdown",
   "metadata": {},
   "source": [
    "# Python | Cloning or Copying a list\n",
    "In this article we will go through various ways of copying or cloning a list in Python. These various ways of copying takes different execution time, so we can compare them on the basis of time.\n",
    "## Using slicing technique\n",
    "This is the easiest and the fastest way to clone a list. This method is considered when we want to modify a list and also keep a copy of the original. In this we make a copy of the list itself, along with the reference. This process is also called cloning. This technique takes about 0.039 seconds and is the fastest technique."
   ]
  },
  {
   "cell_type": "code",
   "execution_count": 4,
   "metadata": {},
   "outputs": [
    {
     "name": "stdout",
     "output_type": "stream",
     "text": [
      "Original list: [4, 8, 3, 10, 15, 18]\n",
      "After cloning: [4, 8, 3, 10, 15, 18]\n"
     ]
    }
   ],
   "source": [
    "l=[4,8,3,10,15,18]\n",
    "li=l[:]\n",
    "print(\"Original list:\",l)\n",
    "print(\"After cloning:\",li)"
   ]
  },
  {
   "cell_type": "markdown",
   "metadata": {},
   "source": [
    "# Using the extend() method\n",
    "The lists can be copied into a new list by using the extend() function. This appends each element of the iterable object (e.g., anothre list) to the end of the new list. This takes around 0.053 second to complete. "
   ]
  },
  {
   "cell_type": "code",
   "execution_count": 6,
   "metadata": {},
   "outputs": [
    {
     "name": "stdout",
     "output_type": "stream",
     "text": [
      "Original list: [4, 8, 3, 10, 15, 18]\n",
      "After cloning: [4, 8, 3, 10, 15, 18]\n"
     ]
    }
   ],
   "source": [
    "l=[4,8,3,10,15,18]\n",
    "l3=[]\n",
    "l3.extend(l)\n",
    "print(\"Original list:\",l)\n",
    "print(\"After cloning:\",l3)"
   ]
  },
  {
   "cell_type": "markdown",
   "metadata": {},
   "source": [
    "# Using the list() method\n",
    "This is the simplest method of cloning a list by using the builtin function list(). This takes about 0.075 seconds to complete."
   ]
  },
  {
   "cell_type": "code",
   "execution_count": 7,
   "metadata": {},
   "outputs": [
    {
     "name": "stdout",
     "output_type": "stream",
     "text": [
      "Original List: [4, 8, 2, 10, 15, 18]\n",
      "After Cloning: [4, 8, 2, 10, 15, 18]\n"
     ]
    }
   ],
   "source": [
    "li1 = [4, 8, 2, 10, 15, 18] \n",
    "li2 = list(li1) \n",
    "print(\"Original List:\", li1) \n",
    "print(\"After Cloning:\", li2)"
   ]
  },
  {
   "cell_type": "code",
   "execution_count": null,
   "metadata": {},
   "outputs": [],
   "source": []
  }
 ],
 "metadata": {
  "kernelspec": {
   "display_name": "Python 3",
   "language": "python",
   "name": "python3"
  },
  "language_info": {
   "codemirror_mode": {
    "name": "ipython",
    "version": 3
   },
   "file_extension": ".py",
   "mimetype": "text/x-python",
   "name": "python",
   "nbconvert_exporter": "python",
   "pygments_lexer": "ipython3",
   "version": "3.7.4"
  }
 },
 "nbformat": 4,
 "nbformat_minor": 2
}
