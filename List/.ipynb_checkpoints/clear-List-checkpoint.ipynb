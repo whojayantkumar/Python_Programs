{
 "cells": [
  {
   "cell_type": "markdown",
   "metadata": {},
   "source": [
    "# Different ways to clear a list in Python\n",
    "There are many ways of clearing the list through methods of different constructs offered by Python language. Let’s try to understand each of the method one by one."
   ]
  },
  {
   "cell_type": "code",
   "execution_count": 10,
   "metadata": {},
   "outputs": [
    {
     "name": "stdout",
     "output_type": "stream",
     "text": [
      "Before clear:\t  [1, 2, 3, 4, 5]\n",
      "After clear:\t  []\n"
     ]
    }
   ],
   "source": [
    "#using method clear()\n",
    "list=[1,2,3,4,5]\n",
    "print(\"Before clear:\\t \",list)\n",
    "list.clear()\n",
    "print(\"After clear:\\t \",list)\n"
   ]
  },
  {
   "cell_type": "markdown",
   "metadata": {},
   "source": [
    "# Reinitializing the list : The initialization of the list in that scope, initializes the list with no value. i.e list of size 0. Let’s see the example demonstrating Method 1 and 2 to clear list"
   ]
  },
  {
   "cell_type": "code",
   "execution_count": 21,
   "metadata": {},
   "outputs": [
    {
     "name": "stdout",
     "output_type": "stream",
     "text": [
      "Before clear:\t  [1, 'jayant', 2, 3, 4, 5]\n",
      "After clear:\t  []\n"
     ]
    }
   ],
   "source": [
    "list=[1,'jayant',2,3,4,5]\n",
    "print(\"Before clear:\\t \",list)\n",
    "list=[]\n",
    "print(\"After clear:\\t \",list)"
   ]
  },
  {
   "cell_type": "markdown",
   "metadata": {},
   "source": [
    "#  Using del : del can be used to clear the list elements in a range, if we don’t give a range, all the elements are deleted."
   ]
  },
  {
   "cell_type": "code",
   "execution_count": 35,
   "metadata": {},
   "outputs": [
    {
     "name": "stdout",
     "output_type": "stream",
     "text": [
      "Before clear:\t  ['jayant', 'kumar']\n",
      "After clear:\t  []\n"
     ]
    }
   ],
   "source": [
    "list=['jayant','kumar']\n",
    "print(\"Before clear:\\t \",list)\n",
    "del list[:]\n",
    "print(\"After clear:\\t \",list)"
   ]
  },
  {
   "cell_type": "code",
   "execution_count": null,
   "metadata": {},
   "outputs": [],
   "source": []
  },
  {
   "cell_type": "code",
   "execution_count": null,
   "metadata": {},
   "outputs": [],
   "source": []
  }
 ],
 "metadata": {
  "kernelspec": {
   "display_name": "Python 3",
   "language": "python",
   "name": "python3"
  },
  "language_info": {
   "codemirror_mode": {
    "name": "ipython",
    "version": 3
   },
   "file_extension": ".py",
   "mimetype": "text/x-python",
   "name": "python",
   "nbconvert_exporter": "python",
   "pygments_lexer": "ipython3",
   "version": "3.7.4"
  }
 },
 "nbformat": 4,
 "nbformat_minor": 2
}
