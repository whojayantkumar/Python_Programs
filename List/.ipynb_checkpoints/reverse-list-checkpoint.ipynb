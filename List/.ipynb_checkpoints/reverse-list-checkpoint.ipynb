{
 "cells": [
  {
   "cell_type": "markdown",
   "metadata": {},
   "source": [
    "# Python | Reversing a List\n",
    "Python provides us with various ways of reversing a list. We will go through few of the many techniques on how a list in python can be reversed.\n",
    "Examples:\n",
    "\n",
    "Input : list = [10, 11, 12, 13, 14, 15]\n",
    "Output : [15, 14, 13, 12, 11, 10]\n",
    "\n",
    "Input : list = [4, 5, 6, 7, 8, 9]\n",
    "Output : [9, 8, 7, 6, 5, 4]"
   ]
  },
  {
   "cell_type": "code",
   "execution_count": 24,
   "metadata": {},
   "outputs": [
    {
     "name": "stdout",
     "output_type": "stream",
     "text": [
      "Before reverse  [10, 11, 12, 13, 14, 15]\n",
      "After reverse  [15, 14, 13, 12, 11, 10]\n"
     ]
    }
   ],
   "source": [
    "#using slicing\n",
    "\n",
    "def reverse1(list):\n",
    "    newlist=list[::-1]\n",
    "    return newlist\n",
    "list=[10,11,12,13,14,15]\n",
    "print(\"Before reverse \",list)\n",
    "print(\"After reverse \",reverse1(list))"
   ]
  },
  {
   "cell_type": "code",
   "execution_count": 29,
   "metadata": {},
   "outputs": [
    {
     "name": "stdout",
     "output_type": "stream",
     "text": [
      "Before reverse  [10, 11, 12, 13, 14, 15]\n",
      "After reverse  [15, 14, 13, 12, 11, 10]\n"
     ]
    }
   ],
   "source": [
    "#using reverse() function\n",
    "list=[10,11,12,13,14,15]\n",
    "print(\"Before reverse \",list)\n",
    "list=reverse(list)\n",
    "print(\"After reverse \",list)"
   ]
  },
  {
   "cell_type": "code",
   "execution_count": null,
   "metadata": {},
   "outputs": [],
   "source": []
  }
 ],
 "metadata": {
  "kernelspec": {
   "display_name": "Python 3",
   "language": "python",
   "name": "python3"
  },
  "language_info": {
   "codemirror_mode": {
    "name": "ipython",
    "version": 3
   },
   "file_extension": ".py",
   "mimetype": "text/x-python",
   "name": "python",
   "nbconvert_exporter": "python",
   "pygments_lexer": "ipython3",
   "version": "3.7.4"
  }
 },
 "nbformat": 4,
 "nbformat_minor": 2
}
