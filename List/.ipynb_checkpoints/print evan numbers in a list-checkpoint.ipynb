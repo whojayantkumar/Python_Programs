{
 "cells": [
  {
   "cell_type": "markdown",
   "metadata": {},
   "source": [
    "# Python program to print even numbers in a list\n",
    "Given a list of numbers, write a Python program to print all even numbers in given list.\n",
    "\n",
    "Example:\n",
    "\n",
    "Input: list1 = [2, 7, 5, 64, 14]\n",
    "Output: [2, 64, 14]\n",
    "\n",
    "Input: list2 = [12, 14, 95, 3]\n",
    "Output: [12, 14]"
   ]
  },
  {
   "cell_type": "code",
   "execution_count": 3,
   "metadata": {},
   "outputs": [
    {
     "name": "stdout",
     "output_type": "stream",
     "text": [
      "[2, 64, 14]\n",
      "[12, 14]\n"
     ]
    }
   ],
   "source": [
    "def evenNumbers(list1):\n",
    "    newlist=[]\n",
    "    for i in list1:\n",
    "        if i%2==0:\n",
    "            newlist.append(i)    \n",
    "    return newlist\n",
    "list1=[2,7,5,64,14]\n",
    "print(evenNumbers(list1))\n",
    "list2=[12,14,95,3]\n",
    "print(evenNumbers(list2))\n"
   ]
  },
  {
   "cell_type": "markdown",
   "metadata": {},
   "source": [
    "# Using list comprehension "
   ]
  },
  {
   "cell_type": "code",
   "execution_count": 5,
   "metadata": {},
   "outputs": [
    {
     "name": "stdout",
     "output_type": "stream",
     "text": [
      "[12, 14, 10, 12, 16, 18]\n"
     ]
    }
   ],
   "source": [
    "list2=[12,14,95,3,10,12,16,35,17,18]\n",
    "evenlist=[num for num in list2 if num%2==0]\n",
    "print(evenlist)"
   ]
  },
  {
   "cell_type": "code",
   "execution_count": null,
   "metadata": {},
   "outputs": [],
   "source": []
  }
 ],
 "metadata": {
  "kernelspec": {
   "display_name": "Python 3",
   "language": "python",
   "name": "python3"
  },
  "language_info": {
   "codemirror_mode": {
    "name": "ipython",
    "version": 3
   },
   "file_extension": ".py",
   "mimetype": "text/x-python",
   "name": "python",
   "nbconvert_exporter": "python",
   "pygments_lexer": "ipython3",
   "version": "3.7.4"
  }
 },
 "nbformat": 4,
 "nbformat_minor": 2
}
