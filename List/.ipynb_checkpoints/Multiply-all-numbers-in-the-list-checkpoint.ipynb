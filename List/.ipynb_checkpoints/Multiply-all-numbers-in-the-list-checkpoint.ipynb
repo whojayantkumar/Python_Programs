{
 "cells": [
  {
   "cell_type": "markdown",
   "metadata": {},
   "source": [
    "# Python | Multiply all numbers in the list \n",
    "Given a list, print the value obtained after multiplying all numbers in a list.\n",
    "\n",
    "Examples:\n",
    "\n",
    "Input :  list1 = [1, 2, 3] \n",
    "Output : 6 \n",
    "Explanation: 1*2*3=6 \n",
    "\n",
    "Input : list1 = [3, 2, 4] \n",
    "Output : 24 "
   ]
  },
  {
   "cell_type": "code",
   "execution_count": 8,
   "metadata": {},
   "outputs": [
    {
     "name": "stdout",
     "output_type": "stream",
     "text": [
      "[1, 2, 3, 4, 5, 6, 7, 8, 9] multiply is 362880\n"
     ]
    }
   ],
   "source": [
    "#Normal method\n",
    "def listMul(list1):\n",
    "    mul=1\n",
    "    size=len(list1)\n",
    "    for i in range(size):\n",
    "        mul=mul*list1[i]\n",
    "    return mul\n",
    "list1=[1,2,3,4,5,6,7,8,9]\n",
    "print('{} multiply is {}'.format(list1,listMul(list1)))"
   ]
  },
  {
   "cell_type": "markdown",
   "metadata": {},
   "source": [
    "# using recursion"
   ]
  },
  {
   "cell_type": "code",
   "execution_count": 15,
   "metadata": {},
   "outputs": [
    {
     "name": "stdout",
     "output_type": "stream",
     "text": [
      "[1, 2, 3, 4, 5] multiply is 120\n"
     ]
    }
   ],
   "source": [
    "def listMultiply(list1,size):\n",
    "    if size==0:\n",
    "        return 1\n",
    "    else:\n",
    "        return list1[size-1] * listMultiply(list1,size-1)\n",
    "list1=[1,2,3,4,5]\n",
    "size=len(list1)\n",
    "mul=listMultiply(list1,size)\n",
    "print('{} multiply is {}'.format(list1,mul))"
   ]
  },
  {
   "cell_type": "markdown",
   "metadata": {},
   "source": [
    "#  Using numpy.prod()\n",
    "\n",
    "We can use numpy.prod() from import numpy to get the multiplication of all the numbers in the list. It returns an integer or a float value depending on the multiplication result.\n",
    "\n",
    "Below it the Python3 implementation of the above approach:"
   ]
  },
  {
   "cell_type": "code",
   "execution_count": 20,
   "metadata": {},
   "outputs": [
    {
     "name": "stdout",
     "output_type": "stream",
     "text": [
      "[2, 2, 2, 2, 2, 2] Product is 64\n"
     ]
    }
   ],
   "source": [
    "import numpy\n",
    "list1=[2,2,2,2,2,2]\n",
    "result=numpy.prod(list1)\n",
    "print('{} Product is {}'.format(list1,result))"
   ]
  },
  {
   "cell_type": "markdown",
   "metadata": {},
   "source": [
    "#  Using lambda function: Using numpy.array\n",
    "\n",
    "Lambda definition does not include a “return” statement, it always contains an expression which is returned. We can also put a lambda definition anywhere a function is expected, and we don’t have to assign it to a variable at all. This is the simplicity of lambda functions. The reduce() function in Python takes in a function and a list as argument. The function is called with a lambda function and a list and a new reduced result is returned. This performs a repetitive operation over the pairs of the list.\n",
    "\n",
    "Below is the Python3 implementation of the above approach:"
   ]
  },
  {
   "cell_type": "code",
   "execution_count": 23,
   "metadata": {},
   "outputs": [
    {
     "name": "stdout",
     "output_type": "stream",
     "text": [
      "0\n",
      "24\n"
     ]
    }
   ],
   "source": [
    "from functools import reduce \n",
    "list1 = [0]  \n",
    "list2 = [3, 2, 4] \n",
    "  \n",
    "  \n",
    "result1 = reduce((lambda x, y: x * y), list1) \n",
    "result2 = reduce((lambda x, y: x * y), list2) \n",
    "print(result1) \n",
    "print(result2) "
   ]
  },
  {
   "cell_type": "code",
   "execution_count": null,
   "metadata": {},
   "outputs": [],
   "source": []
  }
 ],
 "metadata": {
  "kernelspec": {
   "display_name": "Python 3",
   "language": "python",
   "name": "python3"
  },
  "language_info": {
   "codemirror_mode": {
    "name": "ipython",
    "version": 3
   },
   "file_extension": ".py",
   "mimetype": "text/x-python",
   "name": "python",
   "nbconvert_exporter": "python",
   "pygments_lexer": "ipython3",
   "version": "3.7.4"
  }
 },
 "nbformat": 4,
 "nbformat_minor": 2
}
