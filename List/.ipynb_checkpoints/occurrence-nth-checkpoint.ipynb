{
 "cells": [
  {
   "cell_type": "markdown",
   "metadata": {},
   "source": [
    "# Python program to remove Nth occurrence of the given word\n",
    "Given a list of words in Python, the task is to remove the Nth occurrence of the given word in that list.\n",
    "\n",
    "Examples:\n",
    "\n",
    "Input: list - [\"geeks\", \"for\", \"geeks\"]\n",
    "       word = geeks, N = 2\n",
    "Output: list - [\"geeks\", \"for\"]\n",
    "\n",
    "Input: list - [\"can\", \"you\",  \"can\", \"a\", \"can\" \"?\"]\n",
    "       word = can, N = 1\n",
    "Output: list - [\"you\",  \"can\", \"a\", \"can\" \"?\"]Python program to remove Nth occurrence of the given word\n",
    "Given a list of words in Python, the task is to remove the Nth occurrence of the given word in that list.\n",
    "\n",
    "Examples:\n",
    "\n",
    "Input: list - [\"geeks\", \"for\", \"geeks\"]\n",
    "       word = geeks, N = 2\n",
    "Output: list - [\"geeks\", \"for\"]\n",
    "\n",
    "Input: list - [\"can\", \"you\",  \"can\", \"a\", \"can\" \"?\"]\n",
    "       word = can, N = 1\n",
    "Output: list - [\"you\",  \"can\", \"a\", \"can\" \"?\"]"
   ]
  },
  {
   "cell_type": "code",
   "execution_count": 22,
   "metadata": {},
   "outputs": [
    {
     "name": "stdout",
     "output_type": "stream",
     "text": [
      "['geeks', 'for']\n",
      "['you', 'can', 'a', 'can', '?']\n"
     ]
    }
   ],
   "source": [
    "def occurrence(list,word,n):\n",
    "    count=0\n",
    "    newlist=[]\n",
    "    for i in list:\n",
    "        if word==i:\n",
    "            count+=1\n",
    "            if count!=n:\n",
    "                newlist.append(i)\n",
    "        else:\n",
    "            newlist.append(i)\n",
    "    if count==0:\n",
    "        return \"word not found\"\n",
    "    else:\n",
    "        return newlist\n",
    "    \n",
    "list=[\"geeks\",\"for\",\"geeks\"]\n",
    "word=\"geeks\"\n",
    "n=2\n",
    "print(occurrence(list,word,n))\n",
    "list2=['can','you','can','a','can','?']\n",
    "word2='can'\n",
    "n2=1\n",
    "print(occurrence(list2,word2,n2))"
   ]
  },
  {
   "cell_type": "code",
   "execution_count": null,
   "metadata": {},
   "outputs": [],
   "source": []
  }
 ],
 "metadata": {
  "kernelspec": {
   "display_name": "Python 3",
   "language": "python",
   "name": "python3"
  },
  "language_info": {
   "codemirror_mode": {
    "name": "ipython",
    "version": 3
   },
   "file_extension": ".py",
   "mimetype": "text/x-python",
   "name": "python",
   "nbconvert_exporter": "python",
   "pygments_lexer": "ipython3",
   "version": "3.7.4"
  }
 },
 "nbformat": 4,
 "nbformat_minor": 2
}
