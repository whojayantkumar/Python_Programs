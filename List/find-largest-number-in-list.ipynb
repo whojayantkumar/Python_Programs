{
 "cells": [
  {
   "cell_type": "markdown",
   "metadata": {},
   "source": [
    "# Python program to find largest number in a list\n",
    "Given a list of numbers, the task is to write a Python program to find the largest number in given list.\n",
    "\n",
    "Examples:\n",
    "\n",
    "Input : list1 = [10, 20, 4]\n",
    "Output : 20\n",
    "\n",
    "Input : list2 = [20, 10, 20, 4, 100]\n",
    "Output : 100"
   ]
  },
  {
   "cell_type": "code",
   "execution_count": 2,
   "metadata": {},
   "outputs": [
    {
     "name": "stdout",
     "output_type": "stream",
     "text": [
      "Largest No is :  20\n"
     ]
    }
   ],
   "source": [
    "#simple method\n",
    "def largest(li):\n",
    "    larg=li[0]\n",
    "    for i in li:\n",
    "        if larg<=i:\n",
    "            larg=i\n",
    "    return larg\n",
    "li=[10,20,4]\n",
    "print(\"Largest No is : \",largest(li))"
   ]
  },
  {
   "cell_type": "markdown",
   "metadata": {},
   "source": [
    "# using list sorting"
   ]
  },
  {
   "cell_type": "code",
   "execution_count": 16,
   "metadata": {},
   "outputs": [
    {
     "name": "stdout",
     "output_type": "stream",
     "text": [
      "Largest No is :  100\n"
     ]
    }
   ],
   "source": [
    "li=[20,10,20,4,100]\n",
    "li.sort()\n",
    "print(\"Largest No is : \",li[-1])"
   ]
  },
  {
   "cell_type": "markdown",
   "metadata": {},
   "source": [
    "# using max() method"
   ]
  },
  {
   "cell_type": "code",
   "execution_count": 17,
   "metadata": {},
   "outputs": [
    {
     "name": "stdout",
     "output_type": "stream",
     "text": [
      "Largest No is :  50\n"
     ]
    }
   ],
   "source": [
    "li=[20,10,20,50,10,49,45]\n",
    "print(\"Largest No is : \",max(li))"
   ]
  },
  {
   "cell_type": "code",
   "execution_count": null,
   "metadata": {},
   "outputs": [],
   "source": []
  }
 ],
 "metadata": {
  "kernelspec": {
   "display_name": "Python 3",
   "language": "python",
   "name": "python3"
  },
  "language_info": {
   "codemirror_mode": {
    "name": "ipython",
    "version": 3
   },
   "file_extension": ".py",
   "mimetype": "text/x-python",
   "name": "python",
   "nbconvert_exporter": "python",
   "pygments_lexer": "ipython3",
   "version": "3.7.4"
  }
 },
 "nbformat": 4,
 "nbformat_minor": 2
}
