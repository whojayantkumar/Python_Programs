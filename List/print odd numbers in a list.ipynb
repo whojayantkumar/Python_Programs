{
 "cells": [
  {
   "cell_type": "markdown",
   "metadata": {},
   "source": [
    "# Python program to print odd numbers in a List\n",
    "Given a list of numbers, write a Python program to print all odd numbers in given list.\n",
    "\n",
    "Example:\n",
    "\n",
    "Input: list1 = [2, 7, 5, 64, 14]\n",
    "Output: [7, 5]\n",
    "\n",
    "Input: list2 = [12, 14, 95, 3, 73]\n",
    "Output: [95, 3, 73]"
   ]
  },
  {
   "cell_type": "code",
   "execution_count": 4,
   "metadata": {},
   "outputs": [
    {
     "name": "stdout",
     "output_type": "stream",
     "text": [
      "3, 7, 5, 13, 11, "
     ]
    }
   ],
   "source": [
    "def odd(list1):\n",
    "    for i in list1:\n",
    "        if i%2!=0:\n",
    "            print(i, end=', ')\n",
    "list1=[2,3,7,5,64,13,14,11,12]\n",
    "odd(list1)\n"
   ]
  },
  {
   "cell_type": "markdown",
   "metadata": {},
   "source": [
    "# using comprehension"
   ]
  },
  {
   "cell_type": "code",
   "execution_count": 5,
   "metadata": {},
   "outputs": [
    {
     "name": "stdout",
     "output_type": "stream",
     "text": [
      "[95, 3, 73]\n"
     ]
    }
   ],
   "source": [
    "list2=[12,14,95,3,73]\n",
    "odd_list=[num for num in list2 if num%2!=0]\n",
    "print(odd_list)"
   ]
  },
  {
   "cell_type": "code",
   "execution_count": null,
   "metadata": {},
   "outputs": [],
   "source": []
  }
 ],
 "metadata": {
  "kernelspec": {
   "display_name": "Python 3",
   "language": "python",
   "name": "python3"
  },
  "language_info": {
   "codemirror_mode": {
    "name": "ipython",
    "version": 3
   },
   "file_extension": ".py",
   "mimetype": "text/x-python",
   "name": "python",
   "nbconvert_exporter": "python",
   "pygments_lexer": "ipython3",
   "version": "3.7.4"
  }
 },
 "nbformat": 4,
 "nbformat_minor": 2
}
