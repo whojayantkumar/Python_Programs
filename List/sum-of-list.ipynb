{
 "cells": [
  {
   "cell_type": "markdown",
   "metadata": {},
   "source": [
    "# Python program to find sum of elements in list\n",
    "Given a list of numbers, write a Python program to find the sum of all the elements in the list.\n",
    "\n",
    "Example:\n",
    "\n",
    "Input: [12, 15, 3, 10]\n",
    "Output: 40\n",
    "\n",
    "Input: [17, 5, 3, 5]\n",
    "Output: 33"
   ]
  },
  {
   "cell_type": "code",
   "execution_count": 12,
   "metadata": {},
   "outputs": [
    {
     "name": "stdout",
     "output_type": "stream",
     "text": [
      "sum of [10, 20, 30, 40, 50] is 150\n"
     ]
    }
   ],
   "source": [
    "def listSum(li):\n",
    "    total=0\n",
    "    for i in li:\n",
    "        total=total+i\n",
    "    return total\n",
    "li=[10,20,30,40,50]\n",
    "print('sum of {} is {}'.format(li,listSum(li)))"
   ]
  },
  {
   "cell_type": "markdown",
   "metadata": {},
   "source": [
    "#  Recursive way\n"
   ]
  },
  {
   "cell_type": "code",
   "execution_count": 11,
   "metadata": {},
   "outputs": [
    {
     "name": "stdout",
     "output_type": "stream",
     "text": [
      "300\n",
      "sum of [10, 20, 30, 40, 50, 60, 70, 20] is 300\n"
     ]
    }
   ],
   "source": [
    "def listSum(li,size):\n",
    "    if(size==0):\n",
    "        return 0\n",
    "    else:\n",
    "        return li[size-1]+ listSum(li,size-1)\n",
    "li=[10,20,30,40,50,60,70,20]\n",
    "size=len(li)\n",
    "total=listSum(li,size)\n",
    "print('sum of {} is {}'.format(li,total))"
   ]
  },
  {
   "cell_type": "markdown",
   "metadata": {},
   "source": [
    "# using sum() method"
   ]
  },
  {
   "cell_type": "code",
   "execution_count": 14,
   "metadata": {},
   "outputs": [
    {
     "name": "stdout",
     "output_type": "stream",
     "text": [
      "sum of [10, 20, 30, 40, 50, 60, 70, 20] is 300\n"
     ]
    }
   ],
   "source": [
    "li=[10,20,30,40,50,60,70,20]\n",
    "print('sum of {} is {}'.format(li,sum(li)))"
   ]
  },
  {
   "cell_type": "code",
   "execution_count": null,
   "metadata": {},
   "outputs": [],
   "source": []
  }
 ],
 "metadata": {
  "kernelspec": {
   "display_name": "Python 3",
   "language": "python",
   "name": "python3"
  },
  "language_info": {
   "codemirror_mode": {
    "name": "ipython",
    "version": 3
   },
   "file_extension": ".py",
   "mimetype": "text/x-python",
   "name": "python",
   "nbconvert_exporter": "python",
   "pygments_lexer": "ipython3",
   "version": "3.7.4"
  }
 },
 "nbformat": 4,
 "nbformat_minor": 2
}
