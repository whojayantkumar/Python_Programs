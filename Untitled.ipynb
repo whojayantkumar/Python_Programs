{
 "cells": [
  {
   "cell_type": "code",
   "execution_count": 7,
   "metadata": {},
   "outputs": [
    {
     "name": "stdout",
     "output_type": "stream",
     "text": [
      "Size of array : 9\n",
      "enter array element:5\n",
      "enter array element:7\n",
      "enter array element:9\n",
      "enter array element:1\n",
      "enter array element:2\n",
      "enter array element:4\n",
      "enter array element:6\n",
      "enter array element:8\n",
      "enter array element:3\n",
      "5 ,  7  and  9\n",
      "5 ,  7  and  8\n",
      "5 ,  6  and  8\n",
      "1 ,  2  and  4\n",
      "1 ,  2  and  6\n",
      "1 ,  2  and  8\n",
      "1 ,  2  and  3\n",
      "1 ,  4  and  6\n",
      "1 ,  4  and  8\n",
      "1 ,  6  and  8\n",
      "2 ,  4  and  6\n",
      "2 ,  4  and  8\n",
      "2 ,  6  and  8\n",
      "4 ,  6  and  8\n"
     ]
    }
   ],
   "source": [
    "def triplet(arr,n):\n",
    "    for i in range(n-3):\n",
    "        for j in range(i+1,n-2):\n",
    "            for k in range(j+1,n):\n",
    "              if(arr[i]<=arr[j]<=arr[k]):\n",
    "                  print(arr[i],', ',arr[j],\" and \",arr[k])\n",
    "\n",
    "n=int(input(\"Size of array : \"))\n",
    "if n>=1 and n<1000:\n",
    "    arr=[]\n",
    "    for i in range(n):\n",
    "        element=int(input(\"enter array element:\"))\n",
    "        arr.append(element)\n",
    "    triplet(arr,n)\n"
   ]
  },
  {
   "cell_type": "code",
   "execution_count": 10,
   "metadata": {},
   "outputs": [
    {
     "name": "stdout",
     "output_type": "stream",
     "text": [
      "2\n"
     ]
    },
    {
     "ename": "IndexError",
     "evalue": "list index out of range",
     "output_type": "error",
     "traceback": [
      "\u001b[1;31m---------------------------------------------------------------------------\u001b[0m",
      "\u001b[1;31mIndexError\u001b[0m                                Traceback (most recent call last)",
      "\u001b[1;32m<ipython-input-10-232b38f7b944>\u001b[0m in \u001b[0;36m<module>\u001b[1;34m\u001b[0m\n\u001b[0;32m      5\u001b[0m     \u001b[1;32mif\u001b[0m \u001b[0marr\u001b[0m\u001b[1;33m[\u001b[0m\u001b[1;36m0\u001b[0m\u001b[1;33m]\u001b[0m\u001b[1;33m==\u001b[0m\u001b[1;36m1\u001b[0m\u001b[1;33m:\u001b[0m\u001b[1;33m\u001b[0m\u001b[1;33m\u001b[0m\u001b[0m\n\u001b[0;32m      6\u001b[0m         \u001b[0marr\u001b[0m\u001b[1;33m[\u001b[0m\u001b[1;36m0\u001b[0m\u001b[1;33m]\u001b[0m\u001b[1;33m==\u001b[0m\u001b[1;36m2\u001b[0m\u001b[1;33m\u001b[0m\u001b[1;33m\u001b[0m\u001b[0m\n\u001b[1;32m----> 7\u001b[1;33m     \u001b[1;32mfor\u001b[0m \u001b[0mi\u001b[0m \u001b[1;32min\u001b[0m \u001b[0mrange\u001b[0m\u001b[1;33m(\u001b[0m\u001b[0marr\u001b[0m\u001b[1;33m[\u001b[0m\u001b[1;36m0\u001b[0m\u001b[1;33m]\u001b[0m\u001b[1;33m,\u001b[0m\u001b[0marr\u001b[0m\u001b[1;33m[\u001b[0m\u001b[1;36m1\u001b[0m\u001b[1;33m]\u001b[0m\u001b[1;33m+\u001b[0m\u001b[1;36m1\u001b[0m\u001b[1;33m)\u001b[0m\u001b[1;33m:\u001b[0m\u001b[1;33m\u001b[0m\u001b[1;33m\u001b[0m\u001b[0m\n\u001b[0m\u001b[0;32m      8\u001b[0m         \u001b[0mflag\u001b[0m\u001b[1;33m=\u001b[0m\u001b[1;32mFalse\u001b[0m\u001b[1;33m\u001b[0m\u001b[1;33m\u001b[0m\u001b[0m\n\u001b[0;32m      9\u001b[0m         \u001b[1;32mfor\u001b[0m \u001b[0mj\u001b[0m \u001b[1;32min\u001b[0m \u001b[0mrange\u001b[0m\u001b[1;33m(\u001b[0m\u001b[1;36m2\u001b[0m\u001b[1;33m,\u001b[0m\u001b[0mi\u001b[0m\u001b[1;33m)\u001b[0m\u001b[1;33m:\u001b[0m\u001b[1;33m\u001b[0m\u001b[1;33m\u001b[0m\u001b[0m\n",
      "\u001b[1;31mIndexError\u001b[0m: list index out of range"
     ]
    }
   ],
   "source": [
    "array=[]\n",
    "for number in range(n):\n",
    "    arr=[int(x) for x in input().split()]\n",
    "    count=0\n",
    "    if arr[0]==1:\n",
    "        arr[0]==2\n",
    "    for i in range(arr[0],arr[1]+1):\n",
    "        flag=False\n",
    "        for j in range(2,i):\n",
    "            if i%j==0:\n",
    "                flag=True\n",
    "        if flag==False:\n",
    "            count+=1\n",
    "    array.append(count)\n",
    "for number in array:\n",
    "    print(number)\n",
    "print(array)"
   ]
  },
  {
   "cell_type": "code",
   "execution_count": 7,
   "metadata": {},
   "outputs": [
    {
     "name": "stdout",
     "output_type": "stream",
     "text": [
      "\b\u0007\\c\\d\u0007\u0007\u0007\u0007\u0007\u0007\u0007\u0007\u0007\u0007\u0007\u0007\n"
     ]
    }
   ],
   "source": [
    "print('\\b\\a\\c\\d\\a\\a\\a\\a\\a\\a\\a\\a\\a\\a\\a\\a')"
   ]
  },
  {
   "cell_type": "code",
   "execution_count": 9,
   "metadata": {},
   "outputs": [
    {
     "ename": "TypeError",
     "evalue": "'>' not supported between instances of 'str' and 'int'",
     "output_type": "error",
     "traceback": [
      "\u001b[1;31m---------------------------------------------------------------------------\u001b[0m",
      "\u001b[1;31mTypeError\u001b[0m                                 Traceback (most recent call last)",
      "\u001b[1;32m<ipython-input-9-3327d9de57c6>\u001b[0m in \u001b[0;36m<module>\u001b[1;34m\u001b[0m\n\u001b[0;32m      1\u001b[0m \u001b[0mli\u001b[0m\u001b[1;33m=\u001b[0m\u001b[1;33m(\u001b[0m\u001b[1;36m1\u001b[0m\u001b[1;33m,\u001b[0m\u001b[1;34m'234'\u001b[0m\u001b[1;33m,\u001b[0m\u001b[1;34m'python'\u001b[0m\u001b[1;33m,\u001b[0m\u001b[1;36m555\u001b[0m\u001b[1;33m,\u001b[0m\u001b[1;36m786\u001b[0m\u001b[1;33m,\u001b[0m\u001b[1;34m'jayant'\u001b[0m\u001b[1;33m,\u001b[0m\u001b[1;36m9999\u001b[0m\u001b[1;33m)\u001b[0m\u001b[1;33m\u001b[0m\u001b[1;33m\u001b[0m\u001b[0m\n\u001b[1;32m----> 2\u001b[1;33m \u001b[0mprint\u001b[0m\u001b[1;33m(\u001b[0m\u001b[0mmax\u001b[0m\u001b[1;33m(\u001b[0m\u001b[0mli\u001b[0m\u001b[1;33m)\u001b[0m\u001b[1;33m)\u001b[0m\u001b[1;33m\u001b[0m\u001b[1;33m\u001b[0m\u001b[0m\n\u001b[0m",
      "\u001b[1;31mTypeError\u001b[0m: '>' not supported between instances of 'str' and 'int'"
     ]
    }
   ],
   "source": [
    "li=(1,'234','python',555,786,'jayant',9999)\n",
    "print(max(li))"
   ]
  },
  {
   "cell_type": "code",
   "execution_count": 10,
   "metadata": {},
   "outputs": [
    {
     "ename": "SyntaxError",
     "evalue": "invalid syntax (<ipython-input-10-1b9cf30a1d8f>, line 1)",
     "output_type": "error",
     "traceback": [
      "\u001b[1;36m  File \u001b[1;32m\"<ipython-input-10-1b9cf30a1d8f>\"\u001b[1;36m, line \u001b[1;32m1\u001b[0m\n\u001b[1;33m    $pip install py2exe\u001b[0m\n\u001b[1;37m    ^\u001b[0m\n\u001b[1;31mSyntaxError\u001b[0m\u001b[1;31m:\u001b[0m invalid syntax\n"
     ]
    }
   ],
   "source": [
    "$pip install py2exe"
   ]
  },
  {
   "cell_type": "code",
   "execution_count": 11,
   "metadata": {},
   "outputs": [
    {
     "name": "stdout",
     "output_type": "stream",
     "text": [
      "Collecting py2exe\n",
      "  Downloading https://files.pythonhosted.org/packages/6a/16/19bd8b59db4a61ff003aee258efd86a0aca050718435b1f54592ac870235/py2exe-0.9.2.2-py33.py34-none-any.whl (270kB)\n",
      "Installing collected packages: py2exe\n",
      "Successfully installed py2exe-0.9.2.2\n",
      "Note: you may need to restart the kernel to use updated packages.\n"
     ]
    }
   ],
   "source": [
    "pip install py2exe"
   ]
  },
  {
   "cell_type": "code",
   "execution_count": 7,
   "metadata": {},
   "outputs": [
    {
     "name": "stdout",
     "output_type": "stream",
     "text": [
      "Looking Slughorn straight in the eye, Jayant leant forwards a little.\n",
      "\n",
      "'I am the Chosen One. I have to kill Voldemort. I need that memory.'\n",
      "\n",
      "'You are the Chosen One?'\n",
      "\n",
      "'Of course I am,' said Jayant calmly.\n"
     ]
    }
   ],
   "source": [
    "def IPotter():\n",
    "    \"This function morphs anyone into Harry Potter!\"\n",
    "    name=\"Jayant\"\n",
    "    print(\"\"\"Looking Slughorn straight in the eye, {} leant forwards a little.\\n\n",
    "'I am the Chosen One. I have to kill Voldemort. I need that memory.'\\n\n",
    "'You are the Chosen One?'\\n\n",
    "'Of course I am,' said {} calmly.\"\"\".format(name,name))\n",
    "    return\n",
    "\n",
    "IPotter()"
   ]
  },
  {
   "cell_type": "code",
   "execution_count": 28,
   "metadata": {},
   "outputs": [
    {
     "name": "stdout",
     "output_type": "stream",
     "text": [
      "4 6 1 4 4 7 "
     ]
    }
   ],
   "source": [
    "import random\n",
    "for i in range(6):\n",
    "    print(random.randint(0,9),end=' ')"
   ]
  },
  {
   "cell_type": "code",
   "execution_count": 52,
   "metadata": {},
   "outputs": [
    {
     "data": {
      "text/plain": [
       "89.9944808811984"
      ]
     },
     "execution_count": 52,
     "metadata": {},
     "output_type": "execute_result"
    }
   ],
   "source": []
  },
  {
   "cell_type": "code",
   "execution_count": null,
   "metadata": {},
   "outputs": [],
   "source": []
  }
 ],
 "metadata": {
  "kernelspec": {
   "display_name": "Python 3",
   "language": "python",
   "name": "python3"
  },
  "language_info": {
   "codemirror_mode": {
    "name": "ipython",
    "version": 3
   },
   "file_extension": ".py",
   "mimetype": "text/x-python",
   "name": "python",
   "nbconvert_exporter": "python",
   "pygments_lexer": "ipython3",
   "version": "3.7.4"
  }
 },
 "nbformat": 4,
 "nbformat_minor": 2
}
