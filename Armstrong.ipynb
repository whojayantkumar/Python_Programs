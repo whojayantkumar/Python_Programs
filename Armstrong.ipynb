{
 "cells": [
  {
   "cell_type": "markdown",
   "metadata": {},
   "source": [
    "Python Program to check Armstrong Number\n",
    "Given a number x, determine whether the given number is Armstrong number or not. A positive integer of n digits is called an Armstrong number of order n (order is number of digits) if.\n",
    "\n",
    "abcd... = pow(a,n) + pow(b,n) + pow(c,n) + pow(d,n) + .... "
   ]
  },
  {
   "cell_type": "code",
   "execution_count": 12,
   "metadata": {},
   "outputs": [
    {
     "name": "stdout",
     "output_type": "stream",
     "text": [
      "Enter a number :1634\n",
      "1634  is a Armstrong number\n"
     ]
    }
   ],
   "source": [
    "num=int(input(\"Enter a number :\"))\n",
    "temp=num\n",
    "sum=0\n",
    "length=len(str(num))\n",
    "for i in range(length):\n",
    "    rem=temp%10\n",
    "    temp=temp//10\n",
    "    sum=sum+pow(rem,length)\n",
    "if(sum==num):\n",
    "    print(num,\" is a Armstrong number\")\n",
    "else:\n",
    "    print(num,\" is not a Armstrong number\")\n",
    "    "
   ]
  },
  {
   "cell_type": "markdown",
   "metadata": {},
   "source": [
    "#using functions"
   ]
  },
  {
   "cell_type": "code",
   "execution_count": 15,
   "metadata": {},
   "outputs": [
    {
     "name": "stdout",
     "output_type": "stream",
     "text": [
      "Enter a number to check armstrong or not :153\n",
      "153  is Armstrong Number\n"
     ]
    }
   ],
   "source": [
    "def power(x,y):\n",
    "    return x**y\n",
    "def checkArmstrong(num1,num2):\n",
    "    if(num1==num2):\n",
    "        print(num1,\" is Armstrong Number\")\n",
    "    else:\n",
    "        print(num1,\" is not a Armstrong Number\")\n",
    "num=int(input(\"Enter a number to check armstrong or not :\"))\n",
    "length=len(str(num))\n",
    "temp=num\n",
    "sum=0\n",
    "while(temp!=0):\n",
    "    rem=temp%10\n",
    "    temp=temp//10\n",
    "    sum=sum+power(rem,length)\n",
    "checkArmstrong(num,sum)"
   ]
  },
  {
   "cell_type": "code",
   "execution_count": null,
   "metadata": {},
   "outputs": [],
   "source": []
  }
 ],
 "metadata": {
  "kernelspec": {
   "display_name": "Python 3",
   "language": "python",
   "name": "python3"
  },
  "language_info": {
   "codemirror_mode": {
    "name": "ipython",
    "version": 3
   },
   "file_extension": ".py",
   "mimetype": "text/x-python",
   "name": "python",
   "nbconvert_exporter": "python",
   "pygments_lexer": "ipython3",
   "version": "3.7.4"
  }
 },
 "nbformat": 4,
 "nbformat_minor": 2
}
