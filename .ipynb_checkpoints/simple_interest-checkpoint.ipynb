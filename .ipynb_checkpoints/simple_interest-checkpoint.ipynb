{
 "cells": [
  {
   "cell_type": "markdown",
   "metadata": {},
   "source": [
    "Python program for calculate simple interest"
   ]
  },
  {
   "cell_type": "code",
   "execution_count": 4,
   "metadata": {},
   "outputs": [
    {
     "name": "stdout",
     "output_type": "stream",
     "text": [
      "Enter amount : 1\n",
      "Enter rate of interest : 1\n",
      "Enter time in year : 1\n",
      "Simple interest on  1.0 is : 0.01\n"
     ]
    }
   ],
   "source": [
    "def interest(amount,rate,time):\n",
    "    return (amount*rate*time)/100\n",
    "amount=float(input(\"Enter amount : \"))\n",
    "rate=float(input(\"Enter rate of interest : \"))\n",
    "time=int(input(\"Enter time in year : \"))\n",
    "print(\"Simple interest on \",amount,\"is :\",interest(amount,rate,time))"
   ]
  },
  {
   "cell_type": "code",
   "execution_count": null,
   "metadata": {},
   "outputs": [],
   "source": []
  }
 ],
 "metadata": {
  "kernelspec": {
   "display_name": "Python 3",
   "language": "python",
   "name": "python3"
  },
  "language_info": {
   "codemirror_mode": {
    "name": "ipython",
    "version": 3
   },
   "file_extension": ".py",
   "mimetype": "text/x-python",
   "name": "python",
   "nbconvert_exporter": "python",
   "pygments_lexer": "ipython3",
   "version": "3.7.4"
  }
 },
 "nbformat": 4,
 "nbformat_minor": 2
}
