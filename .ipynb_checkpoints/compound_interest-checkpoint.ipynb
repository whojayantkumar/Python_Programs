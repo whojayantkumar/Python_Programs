{
 "cells": [
  {
   "cell_type": "markdown",
   "metadata": {},
   "source": [
    "Python program for compound interest\n",
    "formula:\n",
    "            compound interest = p(1+R/100)^T\n",
    "            p= principal amount\n",
    "            R= rate of interest\n",
    "            T= Time "
   ]
  },
  {
   "cell_type": "code",
   "execution_count": 2,
   "metadata": {},
   "outputs": [
    {
     "name": "stdout",
     "output_type": "stream",
     "text": [
      "Enter amount : 1200\n",
      "Enter rate of interest : 5.4\n",
      "Enter time : 2\n",
      "Compound Interest for amount  1200.0 is :  1333.0992\n"
     ]
    }
   ],
   "source": [
    "def interest(amount,rate,time):\n",
    "    return (amount*pow((1+rate/100),time))\n",
    "amount=float(input(\"Enter amount : \"))\n",
    "rate=float(input(\"Enter rate of interest : \"))\n",
    "time=float(input(\"Enter time : \"))\n",
    "print(\"Compound Interest for amount \",amount,\"is : \",interest(amount,rate,time))"
   ]
  }
 ],
 "metadata": {
  "kernelspec": {
   "display_name": "Python 3",
   "language": "python",
   "name": "python3"
  },
  "language_info": {
   "codemirror_mode": {
    "name": "ipython",
    "version": 3
   },
   "file_extension": ".py",
   "mimetype": "text/x-python",
   "name": "python",
   "nbconvert_exporter": "python",
   "pygments_lexer": "ipython3",
   "version": "3.7.4"
  }
 },
 "nbformat": 4,
 "nbformat_minor": 2
}
