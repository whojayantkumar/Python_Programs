{
 "cells": [
  {
   "cell_type": "markdown",
   "metadata": {},
   "source": [
    "Python Program for n-th Fibonacci number\n",
    "In mathematical terms, the sequence Fn of Fibonacci numbers is defined by the recurrence relation\n",
    "\n",
    "    Fn = Fn-1 + Fn-2\n",
    "with seed values\n",
    "\n",
    "   F0 = 0 and F1 = 1.\n",
    "The Fibonacci numbers are the numbers in the following integer sequence.\n",
    "0, 1, 1, 2, 3, 5, 8, 13, 21, 34, 55, 89, 144, …….."
   ]
  },
  {
   "cell_type": "code",
   "execution_count": 8,
   "metadata": {},
   "outputs": [
    {
     "name": "stdout",
     "output_type": "stream",
     "text": [
      "Enter Number : 5\n",
      "Fibonacci Series [0, 1, 1, 2, 3]\n"
     ]
    }
   ],
   "source": [
    "def fibonacci(n):\n",
    "    fab=[]\n",
    "    if n<0:\n",
    "        print(\"Incorrect Input\")\n",
    "    else:\n",
    "        for i in range(n):\n",
    "            if(i==0):\n",
    "                fab.append(i)\n",
    "            elif i==1:\n",
    "                fab.append(i)\n",
    "            else:\n",
    "                temp=fab[i-1]+fab[i-2]\n",
    "                fab.append(temp)\n",
    "        print(\"Fibonacci Series\",fab)\n",
    "n=int(input(\"Enter Number : \"))\n",
    "\n",
    "fibonacci(n)\n",
    "            \n",
    "            "
   ]
  },
  {
   "cell_type": "code",
   "execution_count": null,
   "metadata": {},
   "outputs": [],
   "source": []
  },
  {
   "cell_type": "code",
   "execution_count": null,
   "metadata": {},
   "outputs": [],
   "source": []
  }
 ],
 "metadata": {
  "kernelspec": {
   "display_name": "Python 3",
   "language": "python",
   "name": "python3"
  },
  "language_info": {
   "codemirror_mode": {
    "name": "ipython",
    "version": 3
   },
   "file_extension": ".py",
   "mimetype": "text/x-python",
   "name": "python",
   "nbconvert_exporter": "python",
   "pygments_lexer": "ipython3",
   "version": "3.7.4"
  }
 },
 "nbformat": 4,
 "nbformat_minor": 2
}
