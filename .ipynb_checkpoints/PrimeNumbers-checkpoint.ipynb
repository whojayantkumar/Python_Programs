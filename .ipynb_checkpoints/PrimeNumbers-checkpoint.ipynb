{
 "cells": [
  {
   "cell_type": "markdown",
   "metadata": {},
   "source": [
    "Python program to print all Prime numbers in an Interval\n",
    "Given two positive integer start and end. The task is to write a Python program toprint all Prime numbers in an Interval.\n",
    "\n",
    "Definition: A prime number is a natural number greater than 1 that has no positive divisors other than 1 and itself. The first few prime numbers are {2, 3, 5, 7, 11, ….}.\n",
    "\n",
    "The idea to solve this problem is to iterate the val from start to end using a for loop and for every number, if it is greater than 1, check if it divides n. If we find any other number which divides, print that value."
   ]
  },
  {
   "cell_type": "code",
   "execution_count": null,
   "metadata": {},
   "outputs": [],
   "source": [
    "start=int(input(\"Enter start point : \"))\n",
    "end=int(input(\"Enter end point :\"))\n",
    "prime=[]\n",
    "for num in range(start,end+1):\n",
    "    if num>1:\n",
    "        for i in range(2,num):\n",
    "            if(num%i)==0:\n",
    "                break\n",
    "        else:\n",
    "            prime.append(num)\n",
    "print(\"Prime numbers :\",prime)\n",
    "    "
   ]
  },
  {
   "cell_type": "code",
   "execution_count": null,
   "metadata": {},
   "outputs": [],
   "source": []
  }
 ],
 "metadata": {
  "kernelspec": {
   "display_name": "Python 3",
   "language": "python",
   "name": "python3"
  },
  "language_info": {
   "codemirror_mode": {
    "name": "ipython",
    "version": 3
   },
   "file_extension": ".py",
   "mimetype": "text/x-python",
   "name": "python",
   "nbconvert_exporter": "python",
   "pygments_lexer": "ipython3",
   "version": "3.7.4"
  }
 },
 "nbformat": 4,
 "nbformat_minor": 2
}
