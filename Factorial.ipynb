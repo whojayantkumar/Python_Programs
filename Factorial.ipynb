{
 "cells": [
  {
   "cell_type": "markdown",
   "metadata": {},
   "source": [
    "1. Python Program for factorial of number"
   ]
  },
  {
   "cell_type": "code",
   "execution_count": 2,
   "metadata": {},
   "outputs": [
    {
     "name": "stdout",
     "output_type": "stream",
     "text": [
      "Enter a Nmber : 6\n",
      "Factorial of  6  is :  720\n"
     ]
    }
   ],
   "source": [
    "number=int(input(\"Enter a Nmber : \"))\n",
    "for i in range(number+1):\n",
    "    if(i>=1):\n",
    "         fact=fact*i\n",
    "    elif(i==0):\n",
    "        fact=1\n",
    "print(\"Factorial of \",number,\" is : \",fact)\n"
   ]
  },
  {
   "cell_type": "code",
   "execution_count": 3,
   "metadata": {},
   "outputs": [
    {
     "name": "stdout",
     "output_type": "stream",
     "text": [
      "Enter a Nmber : 5\n",
      "Factorial of  6  is :  120\n"
     ]
    }
   ],
   "source": [
    "#using function and recursion\n",
    "def fact(num):\n",
    "    return 1 if(num==0 or num==1) else num*fact(num-1)\n",
    "num=int(input(\"Enter a Nmber : \"))\n",
    "print(\"Factorial of \",number,\" is : \",fact(num))\n"
   ]
  },
  {
   "cell_type": "code",
   "execution_count": null,
   "metadata": {},
   "outputs": [],
   "source": []
  }
 ],
 "metadata": {
  "kernelspec": {
   "display_name": "Python 3",
   "language": "python",
   "name": "python3"
  },
  "language_info": {
   "codemirror_mode": {
    "name": "ipython",
    "version": 3
   },
   "file_extension": ".py",
   "mimetype": "text/x-python",
   "name": "python",
   "nbconvert_exporter": "python",
   "pygments_lexer": "ipython3",
   "version": "3.7.4"
  }
 },
 "nbformat": 4,
 "nbformat_minor": 2
}
