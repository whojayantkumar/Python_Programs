{
 "cells": [
  {
   "cell_type": "markdown",
   "metadata": {},
   "source": [
    "Python Program for How to check if a given number is Fibonacci number?\n",
    "Given a number \\’n\\’, how to check if n is a Fibonacci number. First few Fibonacci numbers are 0, 1, 1, 2, 3, 5, 8, 13, 21, 34, 55, 89, 141, ..\n",
    "\n",
    "Following is an interesting property about Fibonacci numbers that can also be used to check if a given number is Fibonacci or not.\n",
    "A number is Fibonacci if and only if one or both of (5*n2 + 4) or (5*n2 – 4) is a perfect square (Source: Wiki)."
   ]
  },
  {
   "cell_type": "code",
   "execution_count": 10,
   "metadata": {},
   "outputs": [
    {
     "name": "stdout",
     "output_type": "stream",
     "text": [
      "Enter a number that you want to check fibonacci or not : 8\n",
      "8  is a fibonacci Number\n"
     ]
    }
   ],
   "source": [
    "import math\n",
    "def isPerfectSquare(num1):\n",
    "    square_root=int(math.sqrt(num1))\n",
    "    return square_root*square_root==num1\n",
    "def isFibonacci(num2):\n",
    "    return isPerfectSquare(5*num2*num2+4) or isPerfectSquare(5*num2*num2-4)\n",
    "num=int(input(\"Enter a number that you want to check fibonacci or not : \"))\n",
    "if(isFibonacci(num)==True):\n",
    "    print(num,\" is a fibonacci Number\")\n",
    "else:\n",
    "    print(num,\" is not a fibonacci Number\")"
   ]
  },
  {
   "cell_type": "code",
   "execution_count": null,
   "metadata": {},
   "outputs": [],
   "source": []
  },
  {
   "cell_type": "code",
   "execution_count": null,
   "metadata": {},
   "outputs": [],
   "source": []
  }
 ],
 "metadata": {
  "kernelspec": {
   "display_name": "Python 3",
   "language": "python",
   "name": "python3"
  },
  "language_info": {
   "codemirror_mode": {
    "name": "ipython",
    "version": 3
   },
   "file_extension": ".py",
   "mimetype": "text/x-python",
   "name": "python",
   "nbconvert_exporter": "python",
   "pygments_lexer": "ipython3",
   "version": "3.7.4"
  }
 },
 "nbformat": 4,
 "nbformat_minor": 2
}
