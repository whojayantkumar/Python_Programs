{
 "cells": [
  {
   "cell_type": "markdown",
   "metadata": {},
   "source": [
    "# Python Program for array rotation\n",
    "Write a function rotate(ar[], d, n) that rotates arr[] of size n by d elements.\n",
    "\n",
    "Array\n",
    "[1,2,3,4,5,6,7]\n",
    "\n",
    "Rotation of the above array by 2 will make array\n",
    "[3,4,5,6,7,1,2]\n",
    "\n",
    "#Algo\n",
    "Input arr[] = [1, 2, 3, 4, 5, 6, 7], d = 2, n =7\n",
    "1) Store d elements in a temp array\n",
    "   temp[] = [1, 2]\n",
    "2) Shift rest of the arr[]\n",
    "   arr[] = [3, 4, 5, 6, 7, 6, 7]\n",
    "3) Store back the d elements\n",
    "   arr[] = [3, 4, 5, 6, 7, 1, 2]\n"
   ]
  },
  {
   "cell_type": "code",
   "execution_count": 18,
   "metadata": {},
   "outputs": [
    {
     "name": "stdout",
     "output_type": "stream",
     "text": [
      "[4, 5, 6, 7, 1, 2, 3]\n"
     ]
    }
   ],
   "source": [
    "def rotate(arr,d):\n",
    "    temp=[]\n",
    "    for i in range(d):\n",
    "        temp.append(arr[i])\n",
    "    arr=shiftArray(arr,d)\n",
    "    for i in range(d):\n",
    "        arr.append(temp[i])\n",
    "    print(arr)\n",
    "def shiftArray(arr,d):\n",
    "    temp1=[]\n",
    "    for i in range(d,len(arr)):\n",
    "        temp1.append(arr[i])\n",
    "    return temp1\n",
    "arr=[1,2,3,4,5,6,7]\n",
    "d=3\n",
    "rotate(arr,d)\n"
   ]
  },
  {
   "cell_type": "code",
   "execution_count": null,
   "metadata": {},
   "outputs": [],
   "source": []
  },
  {
   "cell_type": "code",
   "execution_count": null,
   "metadata": {},
   "outputs": [],
   "source": []
  }
 ],
 "metadata": {
  "kernelspec": {
   "display_name": "Python 3",
   "language": "python",
   "name": "python3"
  },
  "language_info": {
   "codemirror_mode": {
    "name": "ipython",
    "version": 3
   },
   "file_extension": ".py",
   "mimetype": "text/x-python",
   "name": "python",
   "nbconvert_exporter": "python",
   "pygments_lexer": "ipython3",
   "version": "3.7.4"
  }
 },
 "nbformat": 4,
 "nbformat_minor": 2
}
