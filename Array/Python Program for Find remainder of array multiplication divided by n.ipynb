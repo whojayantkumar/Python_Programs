{
 "cells": [
  {
   "cell_type": "markdown",
   "metadata": {},
   "source": [
    "Python Program for Find remainder of array multiplication divided by n\n",
    "Given multiple numbers and a number n, the task is to print the remainder after multiply all the number divide by n.\n",
    "\n",
    "Examples:\n",
    "\n",
    "Input : arr[] = {100, 10, 5, 25, 35, 14}, \n",
    "            n = 11\n",
    "Output : 9\n",
    "100 x 10 x 5 x 25 x 35 x 14 = 61250000 % 11 = 9"
   ]
  },
  {
   "cell_type": "code",
   "execution_count": 2,
   "metadata": {},
   "outputs": [
    {
     "name": "stdout",
     "output_type": "stream",
     "text": [
      "9\n"
     ]
    }
   ],
   "source": [
    "def findRemainder(arr,n):\n",
    "    mul=1\n",
    "    for i in range(len(arr)):\n",
    "        mul=mul*arr[i]\n",
    "    rem=mul%n\n",
    "    print(rem)\n",
    "arr=[100,10,5,25,35,14]\n",
    "n=11\n",
    "findRemainder(arr,n)"
   ]
  },
  {
   "cell_type": "code",
   "execution_count": null,
   "metadata": {},
   "outputs": [],
   "source": []
  }
 ],
 "metadata": {
  "kernelspec": {
   "display_name": "Python 3",
   "language": "python",
   "name": "python3"
  },
  "language_info": {
   "codemirror_mode": {
    "name": "ipython",
    "version": 3
   },
   "file_extension": ".py",
   "mimetype": "text/x-python",
   "name": "python",
   "nbconvert_exporter": "python",
   "pygments_lexer": "ipython3",
   "version": "3.7.4"
  }
 },
 "nbformat": 4,
 "nbformat_minor": 2
}
