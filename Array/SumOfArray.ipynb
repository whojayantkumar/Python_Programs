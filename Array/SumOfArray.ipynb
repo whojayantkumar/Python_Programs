{
 "cells": [
  {
   "cell_type": "markdown",
   "metadata": {},
   "source": [
    "#Python Program to find sum of array\n",
    "Given an array of integers, find sum of its elements.\n",
    "\n",
    "Examples :\n",
    "\n",
    "Input : arr[] = {1, 2, 3}\n",
    "Output : 6\n",
    "1 + 2 + 3 = 6\n",
    "\n",
    "Input : arr[] = {15, 12, 13, 10}\n",
    "Output : 50 "
   ]
  },
  {
   "cell_type": "code",
   "execution_count": 7,
   "metadata": {},
   "outputs": [
    {
     "name": "stdout",
     "output_type": "stream",
     "text": [
      "55\n"
     ]
    }
   ],
   "source": [
    "arr=[0,1,2,3,4,5,6,7,8,9,10]\n",
    "sum=0\n",
    "for i in arr:\n",
    "    sum=sum+i\n",
    "print(sum)"
   ]
  },
  {
   "cell_type": "code",
   "execution_count": null,
   "metadata": {},
   "outputs": [],
   "source": []
  }
 ],
 "metadata": {
  "kernelspec": {
   "display_name": "Python 3",
   "language": "python",
   "name": "python3"
  },
  "language_info": {
   "codemirror_mode": {
    "name": "ipython",
    "version": 3
   },
   "file_extension": ".py",
   "mimetype": "text/x-python",
   "name": "python",
   "nbconvert_exporter": "python",
   "pygments_lexer": "ipython3",
   "version": "3.7.4"
  }
 },
 "nbformat": 4,
 "nbformat_minor": 2
}
