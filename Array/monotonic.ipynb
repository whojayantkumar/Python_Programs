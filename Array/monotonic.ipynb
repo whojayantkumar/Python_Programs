{
 "cells": [
  {
   "cell_type": "markdown",
   "metadata": {},
   "source": [
    "Python Program to check if given array is Monotonic\n",
    "Given an array A containing n integers. The task is to check whether the array is Monotonic or not. An array is monotonic if it is either monotone increasing or monotone decreasing.\n",
    "An array A is monotone increasing if for all i <= j, A[i] <= A[j]. An array A is monotone decreasing if for all i <= j, A[i] >= A[j].\n",
    "Return “True” if the given array A is monotonic else return “False” (without quotes).\n",
    "\n",
    "Examples:\n",
    "\n",
    "Input : 6 5 4 4\n",
    "Output : true\n",
    "\n",
    "Input : 5 15 20 10\n",
    "Output : false"
   ]
  },
  {
   "cell_type": "code",
   "execution_count": 11,
   "metadata": {},
   "outputs": [
    {
     "name": "stdout",
     "output_type": "stream",
     "text": [
      "False\n",
      "False\n"
     ]
    }
   ],
   "source": [
    "def isMonotonic(arr):\n",
    "    return (all(arr[i]>=arr[i+1] for i in range(len(arr)-1)) or \n",
    "           all(arr[i]<=arr[i+1] for i in range(len(arr)-1)))\n",
    "            \n",
    "arr=[5,15,20,10]\n",
    "print(isMonotonic(arr))\n",
    "arr1=[6,5,5,4,4]\n",
    "print(isMonotonic(arr1))\n"
   ]
  },
  {
   "cell_type": "code",
   "execution_count": null,
   "metadata": {},
   "outputs": [],
   "source": []
  },
  {
   "cell_type": "code",
   "execution_count": null,
   "metadata": {},
   "outputs": [],
   "source": []
  }
 ],
 "metadata": {
  "kernelspec": {
   "display_name": "Python 3",
   "language": "python",
   "name": "python3"
  },
  "language_info": {
   "codemirror_mode": {
    "name": "ipython",
    "version": 3
   },
   "file_extension": ".py",
   "mimetype": "text/x-python",
   "name": "python",
   "nbconvert_exporter": "python",
   "pygments_lexer": "ipython3",
   "version": "3.7.4"
  }
 },
 "nbformat": 4,
 "nbformat_minor": 2
}
