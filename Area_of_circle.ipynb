{
 "cells": [
  {
   "cell_type": "markdown",
   "metadata": {},
   "source": [
    "Python Program for Program to find area of a circle\n",
    "Area of a circle can simply be evaluated using following formula.\n",
    "Area = pi * r2\n",
    "where r is radius of circle "
   ]
  },
  {
   "cell_type": "code",
   "execution_count": 3,
   "metadata": {},
   "outputs": [
    {
     "name": "stdout",
     "output_type": "stream",
     "text": [
      "Enter radius of circle : 5\n",
      "Area of circle :  78.55\n"
     ]
    }
   ],
   "source": [
    "pi=3.142\n",
    "def circle_area(radius):\n",
    "    return pi*pow(radius,2)\n",
    "radius=float(input(\"Enter radius of circle : \"))\n",
    "print(\"Area of circle : \",circle_area(radius))\n"
   ]
  },
  {
   "cell_type": "code",
   "execution_count": null,
   "metadata": {},
   "outputs": [],
   "source": []
  }
 ],
 "metadata": {
  "kernelspec": {
   "display_name": "Python 3",
   "language": "python",
   "name": "python3"
  },
  "language_info": {
   "codemirror_mode": {
    "name": "ipython",
    "version": 3
   },
   "file_extension": ".py",
   "mimetype": "text/x-python",
   "name": "python",
   "nbconvert_exporter": "python",
   "pygments_lexer": "ipython3",
   "version": "3.7.4"
  }
 },
 "nbformat": 4,
 "nbformat_minor": 2
}
