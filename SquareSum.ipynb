{
 "cells": [
  {
   "cell_type": "markdown",
   "metadata": {},
   "source": [
    "# Python Program for Sum of squares of first n natural numbers\n",
    "Given a positive integer N. The task is to find 12 + 22 + 32 + ….. + N2."
   ]
  },
  {
   "cell_type": "code",
   "execution_count": 8,
   "metadata": {},
   "outputs": [
    {
     "name": "stdout",
     "output_type": "stream",
     "text": [
      "Enter nth number : 100\n",
      "Sum of Squares of first n natural numbers is :  338350\n"
     ]
    }
   ],
   "source": [
    "def naturalNumberSum(n):\n",
    "    sum=0\n",
    "    for i in range(n+1):\n",
    "        sum=sum+pow(i,2)\n",
    "    print(\"Sum of Squares of first n natural numbers is : \",sum)\n",
    "n=int(input(\"Enter nth number : \"))\n",
    "naturalNumberSum(n)"
   ]
  },
  {
   "cell_type": "code",
   "execution_count": null,
   "metadata": {},
   "outputs": [],
   "source": []
  }
 ],
 "metadata": {
  "kernelspec": {
   "display_name": "Python 3",
   "language": "python",
   "name": "python3"
  },
  "language_info": {
   "codemirror_mode": {
    "name": "ipython",
    "version": 3
   },
   "file_extension": ".py",
   "mimetype": "text/x-python",
   "name": "python",
   "nbconvert_exporter": "python",
   "pygments_lexer": "ipython3",
   "version": "3.7.4"
  }
 },
 "nbformat": 4,
 "nbformat_minor": 2
}
